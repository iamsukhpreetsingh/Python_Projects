{
 "cells": [
  {
   "cell_type": "markdown",
   "metadata": {},
   "source": [
    "<a href=\"https://www.kaggle.com/code/xshaimaa/auto-mpg-dataset-analysis?scriptVersionId=93821948\" target=\"_blank\"><img align=\"left\" alt=\"Kaggle\" title=\"Open in Kaggle\" src=\"https://kaggle.com/static/images/open-in-kaggle.svg\"></a>"
   ]
  },
  {
   "cell_type": "markdown",
   "id": "14a91ed2",
   "metadata": {
    "_cell_guid": "b1076dfc-b9ad-4769-8c92-a6c4dae69d19",
    "_uuid": "8f2839f25d086af736a60e9eeb907d3b93b6e0e5",
    "execution": {
     "iopub.execute_input": "2021-11-14T14:27:02.432965Z",
     "iopub.status.busy": "2021-11-14T14:27:02.432575Z",
     "iopub.status.idle": "2021-11-14T14:27:03.398451Z",
     "shell.execute_reply": "2021-11-14T14:27:03.397518Z",
     "shell.execute_reply.started": "2021-11-14T14:27:02.432866Z"
    },
    "papermill": {
     "duration": 0.041806,
     "end_time": "2022-04-23T20:02:05.457029",
     "exception": false,
     "start_time": "2022-04-23T20:02:05.415223",
     "status": "completed"
    },
    "tags": []
   },
   "source": [
    "## Columns Description\n",
    "1. `mpg`: miles per galon of fuel (continuous variable).\n",
    "2. `cylinders`: number of engine cylinders (multi-valued discrete variable).\n",
    "3. `displacement`: (continuous variable)\n",
    "4. `horsepower`: the power produced by engine to move the car (continuous variable)\n",
    "5. `weight`: car weight (continuous variable)\n",
    "6. `acceleration`: the acceleration an engine can get per second (continuous variable)\n",
    "7. `model year`: car release year from 1970 to 1982(multi-valued discrete variable)\n",
    "8. `origin`: car manufacturing place (1 -> USA, 2 -> Europe, 3 -> Asia) (multi-valued discrete variable)\n",
    "9. `car name`: car model name (unique for each instance)\n",
    "___"
   ]
  },
  {
   "cell_type": "code",
   "execution_count": 1,
   "id": "e8df217c",
   "metadata": {
    "execution": {
     "iopub.execute_input": "2022-04-23T20:02:05.63615Z",
     "iopub.status.busy": "2022-04-23T20:02:05.634351Z",
     "iopub.status.idle": "2022-04-23T20:02:06.541949Z",
     "shell.execute_reply": "2022-04-23T20:02:06.540589Z",
     "shell.execute_reply.started": "2022-04-23T19:37:11.220641Z"
    },
    "papermill": {
     "duration": 0.951468,
     "end_time": "2022-04-23T20:02:06.542166",
     "exception": false,
     "start_time": "2022-04-23T20:02:05.590698",
     "status": "completed"
    },
    "tags": []
   },
   "outputs": [],
   "source": [
    "# importing lib.\n",
    "import pandas as pd\n",
    "import numpy as np\n",
    "import matplotlib.pyplot as plt\n",
    "import seaborn as sns"
   ]
  },
  {
   "cell_type": "markdown",
   "id": "47aa9f4a",
   "metadata": {
    "papermill": {
     "duration": 0.038209,
     "end_time": "2022-04-23T20:02:06.618442",
     "exception": false,
     "start_time": "2022-04-23T20:02:06.580233",
     "status": "completed"
    },
    "tags": []
   },
   "source": [
    "___\n",
    "## Data Wrangling \n",
    "We'd load our desired data from the flat csv file `auto-mpg.csv` to a dataframe using `pandas`, and display its first 5 records. here, we want to check for:\n",
    "- Missingness in our dataframe.\n",
    "- Inconsistent data types.\n",
    "- Duplicated rows.\n",
    "- columns to be droped or re-parsed."
   ]
  },
  {
   "cell_type": "code",
   "execution_count": 2,
   "id": "3119717c",
   "metadata": {
    "execution": {
     "iopub.execute_input": "2022-04-23T20:02:06.699987Z",
     "iopub.status.busy": "2022-04-23T20:02:06.699308Z",
     "iopub.status.idle": "2022-04-23T20:02:06.718135Z",
     "shell.execute_reply": "2022-04-23T20:02:06.718723Z",
     "shell.execute_reply.started": "2022-04-23T19:37:12.154075Z"
    },
    "papermill": {
     "duration": 0.06218,
     "end_time": "2022-04-23T20:02:06.718899",
     "exception": false,
     "start_time": "2022-04-23T20:02:06.656719",
     "status": "completed"
    },
    "tags": []
   },
   "outputs": [],
   "source": [
    "# loading the mpg dataset from the filepath\n",
    "mpg_filepath = 'D:\\myFolder\\Resume\\auto-mpg.csv'\n",
    "mpg_df = pd.read_csv(mpg_filepath)"
   ]
  },
  {
   "cell_type": "code",
   "execution_count": 3,
   "id": "1cb7894c",
   "metadata": {
    "execution": {
     "iopub.execute_input": "2022-04-23T20:02:06.799363Z",
     "iopub.status.busy": "2022-04-23T20:02:06.798385Z",
     "iopub.status.idle": "2022-04-23T20:02:06.820637Z",
     "shell.execute_reply": "2022-04-23T20:02:06.821152Z",
     "shell.execute_reply.started": "2022-04-23T19:37:12.179572Z"
    },
    "papermill": {
     "duration": 0.064163,
     "end_time": "2022-04-23T20:02:06.821324",
     "exception": false,
     "start_time": "2022-04-23T20:02:06.757161",
     "status": "completed"
    },
    "tags": []
   },
   "outputs": [
    {
     "data": {
      "text/html": [
       "<div>\n",
       "<style scoped>\n",
       "    .dataframe tbody tr th:only-of-type {\n",
       "        vertical-align: middle;\n",
       "    }\n",
       "\n",
       "    .dataframe tbody tr th {\n",
       "        vertical-align: top;\n",
       "    }\n",
       "\n",
       "    .dataframe thead th {\n",
       "        text-align: right;\n",
       "    }\n",
       "</style>\n",
       "<table border=\"1\" class=\"dataframe\">\n",
       "  <thead>\n",
       "    <tr style=\"text-align: right;\">\n",
       "      <th></th>\n",
       "      <th>mpg</th>\n",
       "      <th>cylinders</th>\n",
       "      <th>displacement</th>\n",
       "      <th>horsepower</th>\n",
       "      <th>weight</th>\n",
       "      <th>acceleration</th>\n",
       "      <th>model year</th>\n",
       "      <th>origin</th>\n",
       "      <th>car name</th>\n",
       "    </tr>\n",
       "  </thead>\n",
       "  <tbody>\n",
       "    <tr>\n",
       "      <th>0</th>\n",
       "      <td>18.0</td>\n",
       "      <td>8</td>\n",
       "      <td>307.0</td>\n",
       "      <td>130</td>\n",
       "      <td>3504</td>\n",
       "      <td>12.0</td>\n",
       "      <td>70</td>\n",
       "      <td>1</td>\n",
       "      <td>chevrolet chevelle malibu</td>\n",
       "    </tr>\n",
       "    <tr>\n",
       "      <th>1</th>\n",
       "      <td>15.0</td>\n",
       "      <td>8</td>\n",
       "      <td>350.0</td>\n",
       "      <td>165</td>\n",
       "      <td>3693</td>\n",
       "      <td>11.5</td>\n",
       "      <td>70</td>\n",
       "      <td>1</td>\n",
       "      <td>buick skylark 320</td>\n",
       "    </tr>\n",
       "    <tr>\n",
       "      <th>2</th>\n",
       "      <td>18.0</td>\n",
       "      <td>8</td>\n",
       "      <td>318.0</td>\n",
       "      <td>150</td>\n",
       "      <td>3436</td>\n",
       "      <td>11.0</td>\n",
       "      <td>70</td>\n",
       "      <td>1</td>\n",
       "      <td>plymouth satellite</td>\n",
       "    </tr>\n",
       "    <tr>\n",
       "      <th>3</th>\n",
       "      <td>16.0</td>\n",
       "      <td>8</td>\n",
       "      <td>304.0</td>\n",
       "      <td>150</td>\n",
       "      <td>3433</td>\n",
       "      <td>12.0</td>\n",
       "      <td>70</td>\n",
       "      <td>1</td>\n",
       "      <td>amc rebel sst</td>\n",
       "    </tr>\n",
       "    <tr>\n",
       "      <th>4</th>\n",
       "      <td>17.0</td>\n",
       "      <td>8</td>\n",
       "      <td>302.0</td>\n",
       "      <td>140</td>\n",
       "      <td>3449</td>\n",
       "      <td>10.5</td>\n",
       "      <td>70</td>\n",
       "      <td>1</td>\n",
       "      <td>ford torino</td>\n",
       "    </tr>\n",
       "  </tbody>\n",
       "</table>\n",
       "</div>"
      ],
      "text/plain": [
       "    mpg  cylinders  displacement horsepower  weight  acceleration  model year  \\\n",
       "0  18.0          8         307.0        130    3504          12.0          70   \n",
       "1  15.0          8         350.0        165    3693          11.5          70   \n",
       "2  18.0          8         318.0        150    3436          11.0          70   \n",
       "3  16.0          8         304.0        150    3433          12.0          70   \n",
       "4  17.0          8         302.0        140    3449          10.5          70   \n",
       "\n",
       "   origin                   car name  \n",
       "0       1  chevrolet chevelle malibu  \n",
       "1       1          buick skylark 320  \n",
       "2       1         plymouth satellite  \n",
       "3       1              amc rebel sst  \n",
       "4       1                ford torino  "
      ]
     },
     "execution_count": 3,
     "metadata": {},
     "output_type": "execute_result"
    }
   ],
   "source": [
    "# taking a look at the dataset's head\n",
    "mpg_df.head()"
   ]
  },
  {
   "cell_type": "code",
   "execution_count": 4,
   "id": "b33e64e9",
   "metadata": {
    "execution": {
     "iopub.execute_input": "2022-04-23T20:02:06.914522Z",
     "iopub.status.busy": "2022-04-23T20:02:06.913829Z",
     "iopub.status.idle": "2022-04-23T20:02:06.928395Z",
     "shell.execute_reply": "2022-04-23T20:02:06.927651Z",
     "shell.execute_reply.started": "2022-04-23T19:37:12.204576Z"
    },
    "papermill": {
     "duration": 0.067707,
     "end_time": "2022-04-23T20:02:06.928563",
     "exception": false,
     "start_time": "2022-04-23T20:02:06.860856",
     "status": "completed"
    },
    "tags": []
   },
   "outputs": [
    {
     "name": "stdout",
     "output_type": "stream",
     "text": [
      "<class 'pandas.core.frame.DataFrame'>\n",
      "RangeIndex: 398 entries, 0 to 397\n",
      "Data columns (total 9 columns):\n",
      " #   Column        Non-Null Count  Dtype  \n",
      "---  ------        --------------  -----  \n",
      " 0   mpg           398 non-null    float64\n",
      " 1   cylinders     398 non-null    int64  \n",
      " 2   displacement  398 non-null    float64\n",
      " 3   horsepower    398 non-null    object \n",
      " 4   weight        398 non-null    int64  \n",
      " 5   acceleration  398 non-null    float64\n",
      " 6   model year    398 non-null    int64  \n",
      " 7   origin        398 non-null    int64  \n",
      " 8   car name      398 non-null    object \n",
      "dtypes: float64(3), int64(4), object(2)\n",
      "memory usage: 28.1+ KB\n"
     ]
    }
   ],
   "source": [
    "mpg_df.info()"
   ]
  },
  {
   "cell_type": "code",
   "execution_count": 5,
   "id": "473c5283",
   "metadata": {
    "execution": {
     "iopub.execute_input": "2022-04-23T20:02:07.01833Z",
     "iopub.status.busy": "2022-04-23T20:02:07.017603Z",
     "iopub.status.idle": "2022-04-23T20:02:07.024788Z",
     "shell.execute_reply": "2022-04-23T20:02:07.025278Z",
     "shell.execute_reply.started": "2022-04-23T19:37:12.231744Z"
    },
    "papermill": {
     "duration": 0.055971,
     "end_time": "2022-04-23T20:02:07.025461",
     "exception": false,
     "start_time": "2022-04-23T20:02:06.96949",
     "status": "completed"
    },
    "tags": []
   },
   "outputs": [
    {
     "data": {
      "text/plain": [
       "0"
      ]
     },
     "execution_count": 5,
     "metadata": {},
     "output_type": "execute_result"
    }
   ],
   "source": [
    "# checking for any duplicated rows\n",
    "mpg_df.duplicated().sum()"
   ]
  },
  {
   "cell_type": "markdown",
   "id": "b7b9c17c",
   "metadata": {
    "papermill": {
     "duration": 0.039027,
     "end_time": "2022-04-23T20:02:07.10407",
     "exception": false,
     "start_time": "2022-04-23T20:02:07.065043",
     "status": "completed"
    },
    "tags": []
   },
   "source": [
    "- `horsepower` column have inconsistant data type."
   ]
  },
  {
   "cell_type": "code",
   "execution_count": 6,
   "id": "9c9b74aa",
   "metadata": {
    "execution": {
     "iopub.execute_input": "2022-04-23T20:02:07.249938Z",
     "iopub.status.busy": "2022-04-23T20:02:07.248929Z",
     "iopub.status.idle": "2022-04-23T20:02:07.25549Z",
     "shell.execute_reply": "2022-04-23T20:02:07.25595Z",
     "shell.execute_reply.started": "2022-04-23T19:37:12.248804Z"
    },
    "papermill": {
     "duration": 0.051808,
     "end_time": "2022-04-23T20:02:07.256153",
     "exception": false,
     "start_time": "2022-04-23T20:02:07.204345",
     "status": "completed"
    },
    "tags": []
   },
   "outputs": [
    {
     "data": {
      "text/plain": [
       "mpg             129\n",
       "cylinders         5\n",
       "displacement     82\n",
       "horsepower       94\n",
       "weight          351\n",
       "acceleration     95\n",
       "model year       13\n",
       "origin            3\n",
       "car name        305\n",
       "dtype: int64"
      ]
     },
     "execution_count": 6,
     "metadata": {},
     "output_type": "execute_result"
    }
   ],
   "source": [
    "# checking columns' unique values\n",
    "mpg_df.nunique()"
   ]
  },
  {
   "cell_type": "code",
   "execution_count": 7,
   "id": "1185ba87",
   "metadata": {
    "execution": {
     "iopub.execute_input": "2022-04-23T20:02:07.341439Z",
     "iopub.status.busy": "2022-04-23T20:02:07.340779Z",
     "iopub.status.idle": "2022-04-23T20:02:07.344025Z",
     "shell.execute_reply": "2022-04-23T20:02:07.343399Z",
     "shell.execute_reply.started": "2022-04-23T19:37:12.261784Z"
    },
    "papermill": {
     "duration": 0.048536,
     "end_time": "2022-04-23T20:02:07.344168",
     "exception": false,
     "start_time": "2022-04-23T20:02:07.295632",
     "status": "completed"
    },
    "tags": []
   },
   "outputs": [
    {
     "data": {
      "text/plain": [
       "array(['130', '165', '150', '140', '198', '220', '215', '225', '190',\n",
       "       '170', '160', '95', '97', '85', '88', '46', '87', '90', '113',\n",
       "       '200', '210', '193', '?', '100', '105', '175', '153', '180', '110',\n",
       "       '72', '86', '70', '76', '65', '69', '60', '80', '54', '208', '155',\n",
       "       '112', '92', '145', '137', '158', '167', '94', '107', '230', '49',\n",
       "       '75', '91', '122', '67', '83', '78', '52', '61', '93', '148',\n",
       "       '129', '96', '71', '98', '115', '53', '81', '79', '120', '152',\n",
       "       '102', '108', '68', '58', '149', '89', '63', '48', '66', '139',\n",
       "       '103', '125', '133', '138', '135', '142', '77', '62', '132', '84',\n",
       "       '64', '74', '116', '82'], dtype=object)"
      ]
     },
     "execution_count": 7,
     "metadata": {},
     "output_type": "execute_result"
    }
   ],
   "source": [
    "mpg_df.horsepower.unique()"
   ]
  },
  {
   "cell_type": "code",
   "execution_count": null,
   "id": "f0d090e5",
   "metadata": {
    "execution": {
     "iopub.execute_input": "2022-04-23T20:02:07.430945Z",
     "iopub.status.busy": "2022-04-23T20:02:07.430155Z",
     "iopub.status.idle": "2022-04-23T20:02:07.433042Z",
     "shell.execute_reply": "2022-04-23T20:02:07.433557Z",
     "shell.execute_reply.started": "2022-04-23T19:37:12.271478Z"
    },
    "papermill": {
     "duration": 0.049293,
     "end_time": "2022-04-23T20:02:07.433722",
     "exception": false,
     "start_time": "2022-04-23T20:02:07.384429",
     "status": "completed"
    },
    "tags": []
   },
   "outputs": [
    {
     "ename": "NameError",
     "evalue": "name 'mpg_df' is not defined",
     "output_type": "error",
     "traceback": [
      "\u001b[1;31m---------------------------------------------------------------------------\u001b[0m",
      "\u001b[1;31mNameError\u001b[0m                                 Traceback (most recent call last)",
      "Cell \u001b[1;32mIn[1], line 1\u001b[0m\n\u001b[1;32m----> 1\u001b[0m (\u001b[43mmpg_df\u001b[49m[\u001b[38;5;124m'\u001b[39m\u001b[38;5;124mhorsepower\u001b[39m\u001b[38;5;124m'\u001b[39m] \u001b[38;5;241m==\u001b[39m \u001b[38;5;124m'\u001b[39m\u001b[38;5;124m?\u001b[39m\u001b[38;5;124m'\u001b[39m)\u001b[38;5;241m.\u001b[39msum()\n",
      "\u001b[1;31mNameError\u001b[0m: name 'mpg_df' is not defined"
     ]
    }
   ],
   "source": [
    "(mpg_df['horsepower'] == '?').sum()"
   ]
  },
  {
   "cell_type": "markdown",
   "id": "91c76c0a",
   "metadata": {
    "papermill": {
     "duration": 0.04007,
     "end_time": "2022-04-23T20:02:07.514483",
     "exception": false,
     "start_time": "2022-04-23T20:02:07.474413",
     "status": "completed"
    },
    "tags": []
   },
   "source": [
    "- It seems like we have `6` values in `horsepower` column containing `?`, and that is what is giving us the object data type instead of int."
   ]
  },
  {
   "cell_type": "markdown",
   "id": "371e0718",
   "metadata": {
    "papermill": {
     "duration": 0.04021,
     "end_time": "2022-04-23T20:02:07.595195",
     "exception": false,
     "start_time": "2022-04-23T20:02:07.554985",
     "status": "completed"
    },
    "tags": []
   },
   "source": [
    "### **Exploring Summary**\n",
    "- Our dataset has a total of 398 records and 9 columns.\n",
    "- We have no NaNs in our dataset nor duplicated rows.\n",
    "- `horsepower` column have inconsistant data type that needs to be handled and casted to `int`.\n",
    "- `origin` would need to be parsed and casted into a categorical datatype.\n",
    "- No columns would need to be dropped.\n",
    "___"
   ]
  },
  {
   "cell_type": "markdown",
   "id": "480469dd",
   "metadata": {
    "papermill": {
     "duration": 0.039786,
     "end_time": "2022-04-23T20:02:07.676252",
     "exception": false,
     "start_time": "2022-04-23T20:02:07.636466",
     "status": "completed"
    },
    "tags": []
   },
   "source": [
    "## Data Cleaning\n",
    "Here, we'd perform cleaning operations (dropping rows, mapping columns, converting data types). All of which would help us reach a more accurate result in creating meaningful and informative visualizations.\n"
   ]
  },
  {
   "cell_type": "markdown",
   "id": "371a3ac3",
   "metadata": {
    "papermill": {
     "duration": 0.039989,
     "end_time": "2022-04-23T20:02:07.757695",
     "exception": false,
     "start_time": "2022-04-23T20:02:07.717706",
     "status": "completed"
    },
    "tags": []
   },
   "source": [
    "### **Cleaning `horsepower` column**\n",
    "We'd drop each row that contains a `?` on the `horsepower` column."
   ]
  },
  {
   "cell_type": "code",
   "execution_count": 9,
   "id": "670e19de",
   "metadata": {
    "execution": {
     "iopub.execute_input": "2022-04-23T20:02:07.849648Z",
     "iopub.status.busy": "2022-04-23T20:02:07.842999Z",
     "iopub.status.idle": "2022-04-23T20:02:07.853505Z",
     "shell.execute_reply": "2022-04-23T20:02:07.852802Z",
     "shell.execute_reply.started": "2022-04-23T19:37:12.285341Z"
    },
    "papermill": {
     "duration": 0.054893,
     "end_time": "2022-04-23T20:02:07.85367",
     "exception": false,
     "start_time": "2022-04-23T20:02:07.798777",
     "status": "completed"
    },
    "tags": []
   },
   "outputs": [
    {
     "data": {
      "text/plain": [
       "0"
      ]
     },
     "execution_count": 9,
     "metadata": {},
     "output_type": "execute_result"
    }
   ],
   "source": [
    "# droping '?' values\n",
    "mpg_df = mpg_df[mpg_df.horsepower != '?']\n",
    "\n",
    "# confirming changes\n",
    "(mpg_df.horsepower == '?').sum()"
   ]
  },
  {
   "cell_type": "code",
   "execution_count": 10,
   "id": "a7a3283b",
   "metadata": {
    "execution": {
     "iopub.execute_input": "2022-04-23T20:02:07.94915Z",
     "iopub.status.busy": "2022-04-23T20:02:07.948454Z",
     "iopub.status.idle": "2022-04-23T20:02:07.951486Z",
     "shell.execute_reply": "2022-04-23T20:02:07.952231Z",
     "shell.execute_reply.started": "2022-04-23T19:37:12.303339Z"
    },
    "papermill": {
     "duration": 0.057684,
     "end_time": "2022-04-23T20:02:07.952464",
     "exception": false,
     "start_time": "2022-04-23T20:02:07.89478",
     "status": "completed"
    },
    "tags": []
   },
   "outputs": [
    {
     "name": "stdout",
     "output_type": "stream",
     "text": [
      "<class 'pandas.core.frame.DataFrame'>\n",
      "Int64Index: 392 entries, 0 to 397\n",
      "Data columns (total 9 columns):\n",
      " #   Column        Non-Null Count  Dtype  \n",
      "---  ------        --------------  -----  \n",
      " 0   mpg           392 non-null    float64\n",
      " 1   cylinders     392 non-null    int64  \n",
      " 2   displacement  392 non-null    float64\n",
      " 3   horsepower    392 non-null    int64  \n",
      " 4   weight        392 non-null    int64  \n",
      " 5   acceleration  392 non-null    float64\n",
      " 6   model year    392 non-null    int64  \n",
      " 7   origin        392 non-null    int64  \n",
      " 8   car name      392 non-null    object \n",
      "dtypes: float64(3), int64(5), object(1)\n",
      "memory usage: 30.6+ KB\n"
     ]
    }
   ],
   "source": [
    "#casting horsepower column to integer\n",
    "mpg_df.horsepower = mpg_df.horsepower.astype(int)\n",
    "\n",
    "# confirming changes\n",
    "mpg_df.info()"
   ]
  },
  {
   "cell_type": "markdown",
   "id": "52377fb1",
   "metadata": {
    "papermill": {
     "duration": 0.04176,
     "end_time": "2022-04-23T20:02:08.038399",
     "exception": false,
     "start_time": "2022-04-23T20:02:07.996639",
     "status": "completed"
    },
    "tags": []
   },
   "source": [
    "___\n",
    "### **Handling `origin` column**\n",
    "\n",
    "We'd map `origin` column according to the provided description (1 -> USA, 2 -> Europe, 3 -> Asia), and cast its datatype as `category`."
   ]
  },
  {
   "cell_type": "code",
   "execution_count": 11,
   "id": "50a2455b",
   "metadata": {
    "execution": {
     "iopub.execute_input": "2022-04-23T20:02:08.133519Z",
     "iopub.status.busy": "2022-04-23T20:02:08.132817Z",
     "iopub.status.idle": "2022-04-23T20:02:08.135859Z",
     "shell.execute_reply": "2022-04-23T20:02:08.135318Z",
     "shell.execute_reply.started": "2022-04-23T19:37:12.322888Z"
    },
    "papermill": {
     "duration": 0.055712,
     "end_time": "2022-04-23T20:02:08.135996",
     "exception": false,
     "start_time": "2022-04-23T20:02:08.080284",
     "status": "completed"
    },
    "tags": []
   },
   "outputs": [
    {
     "data": {
      "text/plain": [
       "CategoricalDtype(categories=['Asia', 'Europe', 'USA'], ordered=False)"
      ]
     },
     "execution_count": 11,
     "metadata": {},
     "output_type": "execute_result"
    }
   ],
   "source": [
    "# parsing origin column\n",
    "mpg_df.loc[mpg_df.origin == 1, 'origin'] = 'USA'\n",
    "mpg_df.loc[mpg_df.origin == 2, 'origin'] = 'Europe'\n",
    "mpg_df.loc[mpg_df.origin == 3, 'origin'] = 'Asia'\n",
    "\n",
    "# casting origin column into category\n",
    "mpg_df['origin'] = mpg_df['origin'].astype('category')\n",
    "\n",
    "# validating changes\n",
    "mpg_df['origin'].dtype"
   ]
  },
  {
   "cell_type": "markdown",
   "id": "0409f093",
   "metadata": {
    "papermill": {
     "duration": 0.041096,
     "end_time": "2022-04-23T20:02:08.218745",
     "exception": false,
     "start_time": "2022-04-23T20:02:08.177649",
     "status": "completed"
    },
    "tags": []
   },
   "source": [
    "Now, our dataframe is tidy and clean, and we are ready to move into visualizing it to get some meaningful insights!\n",
    "___"
   ]
  },
  {
   "cell_type": "markdown",
   "id": "9cd7888d",
   "metadata": {
    "papermill": {
     "duration": 0.041516,
     "end_time": "2022-04-23T20:02:08.302289",
     "exception": false,
     "start_time": "2022-04-23T20:02:08.260773",
     "status": "completed"
    },
    "tags": []
   },
   "source": [
    "## Data Visualization\n",
    "In this section, we'd use some informative visuals to help us draw insights and conclusions about our data and also help us in our EDA."
   ]
  },
  {
   "cell_type": "markdown",
   "id": "15bff705",
   "metadata": {
    "papermill": {
     "duration": 0.041193,
     "end_time": "2022-04-23T20:02:08.385015",
     "exception": false,
     "start_time": "2022-04-23T20:02:08.343822",
     "status": "completed"
    },
    "tags": []
   },
   "source": [
    "Let's first have a quick look at the summery statistics of our dataset."
   ]
  },
  {
   "cell_type": "code",
   "execution_count": 12,
   "id": "31879f07",
   "metadata": {
    "execution": {
     "iopub.execute_input": "2022-04-23T20:02:08.478075Z",
     "iopub.status.busy": "2022-04-23T20:02:08.477386Z",
     "iopub.status.idle": "2022-04-23T20:02:08.500187Z",
     "shell.execute_reply": "2022-04-23T20:02:08.500726Z",
     "shell.execute_reply.started": "2022-04-23T19:37:12.342647Z"
    },
    "papermill": {
     "duration": 0.073658,
     "end_time": "2022-04-23T20:02:08.50091",
     "exception": false,
     "start_time": "2022-04-23T20:02:08.427252",
     "status": "completed"
    },
    "tags": []
   },
   "outputs": [
    {
     "data": {
      "text/html": [
       "<div>\n",
       "<style scoped>\n",
       "    .dataframe tbody tr th:only-of-type {\n",
       "        vertical-align: middle;\n",
       "    }\n",
       "\n",
       "    .dataframe tbody tr th {\n",
       "        vertical-align: top;\n",
       "    }\n",
       "\n",
       "    .dataframe thead th {\n",
       "        text-align: right;\n",
       "    }\n",
       "</style>\n",
       "<table border=\"1\" class=\"dataframe\">\n",
       "  <thead>\n",
       "    <tr style=\"text-align: right;\">\n",
       "      <th></th>\n",
       "      <th>mpg</th>\n",
       "      <th>cylinders</th>\n",
       "      <th>displacement</th>\n",
       "      <th>horsepower</th>\n",
       "      <th>weight</th>\n",
       "      <th>acceleration</th>\n",
       "      <th>model year</th>\n",
       "    </tr>\n",
       "  </thead>\n",
       "  <tbody>\n",
       "    <tr>\n",
       "      <th>count</th>\n",
       "      <td>392.000000</td>\n",
       "      <td>392.000000</td>\n",
       "      <td>392.000000</td>\n",
       "      <td>392.000000</td>\n",
       "      <td>392.000000</td>\n",
       "      <td>392.000000</td>\n",
       "      <td>392.000000</td>\n",
       "    </tr>\n",
       "    <tr>\n",
       "      <th>mean</th>\n",
       "      <td>23.445918</td>\n",
       "      <td>5.471939</td>\n",
       "      <td>194.411990</td>\n",
       "      <td>104.469388</td>\n",
       "      <td>2977.584184</td>\n",
       "      <td>15.541327</td>\n",
       "      <td>75.979592</td>\n",
       "    </tr>\n",
       "    <tr>\n",
       "      <th>std</th>\n",
       "      <td>7.805007</td>\n",
       "      <td>1.705783</td>\n",
       "      <td>104.644004</td>\n",
       "      <td>38.491160</td>\n",
       "      <td>849.402560</td>\n",
       "      <td>2.758864</td>\n",
       "      <td>3.683737</td>\n",
       "    </tr>\n",
       "    <tr>\n",
       "      <th>min</th>\n",
       "      <td>9.000000</td>\n",
       "      <td>3.000000</td>\n",
       "      <td>68.000000</td>\n",
       "      <td>46.000000</td>\n",
       "      <td>1613.000000</td>\n",
       "      <td>8.000000</td>\n",
       "      <td>70.000000</td>\n",
       "    </tr>\n",
       "    <tr>\n",
       "      <th>25%</th>\n",
       "      <td>17.000000</td>\n",
       "      <td>4.000000</td>\n",
       "      <td>105.000000</td>\n",
       "      <td>75.000000</td>\n",
       "      <td>2225.250000</td>\n",
       "      <td>13.775000</td>\n",
       "      <td>73.000000</td>\n",
       "    </tr>\n",
       "    <tr>\n",
       "      <th>50%</th>\n",
       "      <td>22.750000</td>\n",
       "      <td>4.000000</td>\n",
       "      <td>151.000000</td>\n",
       "      <td>93.500000</td>\n",
       "      <td>2803.500000</td>\n",
       "      <td>15.500000</td>\n",
       "      <td>76.000000</td>\n",
       "    </tr>\n",
       "    <tr>\n",
       "      <th>75%</th>\n",
       "      <td>29.000000</td>\n",
       "      <td>8.000000</td>\n",
       "      <td>275.750000</td>\n",
       "      <td>126.000000</td>\n",
       "      <td>3614.750000</td>\n",
       "      <td>17.025000</td>\n",
       "      <td>79.000000</td>\n",
       "    </tr>\n",
       "    <tr>\n",
       "      <th>max</th>\n",
       "      <td>46.600000</td>\n",
       "      <td>8.000000</td>\n",
       "      <td>455.000000</td>\n",
       "      <td>230.000000</td>\n",
       "      <td>5140.000000</td>\n",
       "      <td>24.800000</td>\n",
       "      <td>82.000000</td>\n",
       "    </tr>\n",
       "  </tbody>\n",
       "</table>\n",
       "</div>"
      ],
      "text/plain": [
       "              mpg   cylinders  displacement  horsepower       weight  \\\n",
       "count  392.000000  392.000000    392.000000  392.000000   392.000000   \n",
       "mean    23.445918    5.471939    194.411990  104.469388  2977.584184   \n",
       "std      7.805007    1.705783    104.644004   38.491160   849.402560   \n",
       "min      9.000000    3.000000     68.000000   46.000000  1613.000000   \n",
       "25%     17.000000    4.000000    105.000000   75.000000  2225.250000   \n",
       "50%     22.750000    4.000000    151.000000   93.500000  2803.500000   \n",
       "75%     29.000000    8.000000    275.750000  126.000000  3614.750000   \n",
       "max     46.600000    8.000000    455.000000  230.000000  5140.000000   \n",
       "\n",
       "       acceleration  model year  \n",
       "count    392.000000  392.000000  \n",
       "mean      15.541327   75.979592  \n",
       "std        2.758864    3.683737  \n",
       "min        8.000000   70.000000  \n",
       "25%       13.775000   73.000000  \n",
       "50%       15.500000   76.000000  \n",
       "75%       17.025000   79.000000  \n",
       "max       24.800000   82.000000  "
      ]
     },
     "execution_count": 12,
     "metadata": {},
     "output_type": "execute_result"
    }
   ],
   "source": [
    "# displaying summary statistics\n",
    "mpg_df.describe()"
   ]
  },
  {
   "cell_type": "markdown",
   "id": "42e61fb2",
   "metadata": {
    "papermill": {
     "duration": 0.043084,
     "end_time": "2022-04-23T20:02:09.196652",
     "exception": false,
     "start_time": "2022-04-23T20:02:09.153568",
     "status": "completed"
    },
    "tags": []
   },
   "source": [
    "___\n",
    "Taking a closer look into the `model year` distribution"
   ]
  },
  {
   "cell_type": "code",
   "execution_count": 14,
   "id": "5c6cb07e",
   "metadata": {
    "execution": {
     "iopub.execute_input": "2022-04-23T20:02:09.292473Z",
     "iopub.status.busy": "2022-04-23T20:02:09.291747Z",
     "iopub.status.idle": "2022-04-23T20:02:09.603629Z",
     "shell.execute_reply": "2022-04-23T20:02:09.602944Z",
     "shell.execute_reply.started": "2022-04-23T19:41:35.354517Z"
    },
    "papermill": {
     "duration": 0.363648,
     "end_time": "2022-04-23T20:02:09.603788",
     "exception": false,
     "start_time": "2022-04-23T20:02:09.24014",
     "status": "completed"
    },
    "tags": []
   },
   "outputs": [
    {
     "data": {
      "image/png": "[encoded data removed]",
      "text/plain": [
       "<Figure size 720x360 with 1 Axes>"
      ]
     },
     "metadata": {
      "needs_background": "light"
     },
     "output_type": "display_data"
    }
   ],
   "source": [
    "# displaying histgram of model year column\n",
    "plt.figure(figsize=(10,5))\n",
    "ax = sns.countplot(x = 'model year', data = mpg_df, color = '#4287f5')\n",
    "ax.bar_label(ax.containers[0], label_type='edge')\n",
    "plt.title(\"model year distribution\", fontsize = 20)\n",
    "plt.xlabel(\"model year\", fontsize = 15)\n",
    "plt.ylabel(\"cars count\", fontsize = 15)\n",
    "plt.show()"
   ]
  },
  {
   "cell_type": "code",
   "execution_count": 15,
   "id": "f09f2c2c",
   "metadata": {
    "execution": {
     "iopub.execute_input": "2022-04-23T20:02:09.73691Z",
     "iopub.status.busy": "2022-04-23T20:02:09.729768Z",
     "iopub.status.idle": "2022-04-23T20:02:10.323304Z",
     "shell.execute_reply": "2022-04-23T20:02:10.323803Z",
     "shell.execute_reply.started": "2022-04-23T19:41:07.849895Z"
    },
    "papermill": {
     "duration": 0.675026,
     "end_time": "2022-04-23T20:02:10.324017",
     "exception": false,
     "start_time": "2022-04-23T20:02:09.648991",
     "status": "completed"
    },
    "tags": []
   },
   "outputs": [
    {
     "data": {
      "image/png": "[encoded data removed]",
      "text/plain": [
       "<Figure size 720x360 with 1 Axes>"
      ]
     },
     "metadata": {
      "needs_background": "light"
     },
     "output_type": "display_data"
    }
   ],
   "source": [
    "# ploting model year against mpg\n",
    "plt.figure(figsize=(10,5))\n",
    "plt.title(\"model year against mpg\", fontsize = 20)\n",
    "plt.xlabel(\"model year\", fontsize = 15)\n",
    "plt.ylabel(\"mpg\", fontsize = 15)\n",
    "sns.lineplot(x = 'model year', y = 'mpg', data = mpg_df);"
   ]
  },
  {
   "cell_type": "markdown",
   "id": "82f6addc",
   "metadata": {
    "papermill": {
     "duration": 0.045638,
     "end_time": "2022-04-23T20:02:10.415756",
     "exception": false,
     "start_time": "2022-04-23T20:02:10.370118",
     "status": "completed"
    },
    "tags": []
   },
   "source": [
    "From the above visualizations, we we may totice the following:\n",
    "- Our dataset contains info about cars from 1970 to 1982.\n",
    "- Most of the cars are produced in `1973`.\n",
    "- As years pass after `1973`, there has been a noticable increase in `mpg`."
   ]
  },
  {
   "cell_type": "markdown",
   "id": "bc89808e",
   "metadata": {
    "papermill": {
     "duration": 0.045699,
     "end_time": "2022-04-23T20:02:10.507751",
     "exception": false,
     "start_time": "2022-04-23T20:02:10.462052",
     "status": "completed"
    },
    "tags": []
   },
   "source": [
    "___\n",
    "Now, let's take a closer look at `mpg` coulmn."
   ]
  },
  {
   "cell_type": "code",
   "execution_count": 16,
   "id": "ad3bd737",
   "metadata": {
    "execution": {
     "iopub.execute_input": "2022-04-23T20:02:10.603201Z",
     "iopub.status.busy": "2022-04-23T20:02:10.602533Z",
     "iopub.status.idle": "2022-04-23T20:02:10.904193Z",
     "shell.execute_reply": "2022-04-23T20:02:10.904677Z",
     "shell.execute_reply.started": "2022-04-23T19:46:43.420885Z"
    },
    "papermill": {
     "duration": 0.351332,
     "end_time": "2022-04-23T20:02:10.904859",
     "exception": false,
     "start_time": "2022-04-23T20:02:10.553527",
     "status": "completed"
    },
    "tags": []
   },
   "outputs": [
    {
     "data": {
      "image/png": "[encoded data removed]",
      "text/plain": [
       "<Figure size 720x360 with 1 Axes>"
      ]
     },
     "metadata": {
      "needs_background": "light"
     },
     "output_type": "display_data"
    }
   ],
   "source": [
    "# ploting mpg distribution\n",
    "plt.figure(figsize=(10,5))\n",
    "ax = sns.histplot(x = 'mpg', data = mpg_df, color = '#4287f5')\n",
    "ax.bar_label(ax.containers[0], label_type='edge')\n",
    "plt.title(\"mpg count distribution\", fontsize = 20)\n",
    "plt.xlabel(\"mpg\", fontsize = 15)\n",
    "plt.ylabel(\"cars count\", fontsize = 15)\n",
    "plt.show()"
   ]
  },
  {
   "cell_type": "markdown",
   "id": "99ee2e8e",
   "metadata": {
    "papermill": {
     "duration": 0.046313,
     "end_time": "2022-04-23T20:02:10.997952",
     "exception": false,
     "start_time": "2022-04-23T20:02:10.951639",
     "status": "completed"
    },
    "tags": []
   },
   "source": [
    "- Most of the cars in our dataset have mpg between 15 to 20. Our data is also skewed to the right.\n",
    "\n",
    "let's compare these findings to `cylinders` and `horsepower` columns."
   ]
  },
  {
   "cell_type": "markdown",
   "id": "7378ec6b",
   "metadata": {
    "papermill": {
     "duration": 0.047151,
     "end_time": "2022-04-23T20:02:11.419485",
     "exception": false,
     "start_time": "2022-04-23T20:02:11.372334",
     "status": "completed"
    },
    "tags": []
   },
   "source": [
    "- The vast majority in cars have `4` cylinder engine."
   ]
  },
  {
   "cell_type": "markdown",
   "id": "8cc336d2",
   "metadata": {
    "papermill": {
     "duration": 0.051364,
     "end_time": "2022-04-23T20:02:12.806855",
     "exception": false,
     "start_time": "2022-04-23T20:02:12.755491",
     "status": "completed"
    },
    "tags": []
   },
   "source": [
    "From the above visuals, we can notice that:\n",
    "- As `cylinders` in the engine increases above 4, `MPG` decreases.\n",
    "- As `cylinders` in the engine increases above 4, engine `horsepower` increases.\n",
    "- there is negative correlation between `mpg` and `horsepower`."
   ]
  },
  {
   "cell_type": "markdown",
   "id": "d2f8ce8a",
   "metadata": {
    "execution": {
     "iopub.execute_input": "2022-03-14T19:43:23.161573Z",
     "iopub.status.busy": "2022-03-14T19:43:23.160676Z",
     "iopub.status.idle": "2022-03-14T19:43:23.167699Z",
     "shell.execute_reply": "2022-03-14T19:43:23.167073Z",
     "shell.execute_reply.started": "2022-03-14T19:43:23.1615Z"
    },
    "papermill": {
     "duration": 0.050233,
     "end_time": "2022-04-23T20:02:12.90788",
     "exception": false,
     "start_time": "2022-04-23T20:02:12.857647",
     "status": "completed"
    },
    "tags": []
   },
   "source": [
    "___\n",
    "Next, we'll move into exploring `origin` column and find insights about each manufacturing country."
   ]
  },
  {
   "cell_type": "code",
   "execution_count": 21,
   "id": "8e84d994",
   "metadata": {
    "execution": {
     "iopub.execute_input": "2022-04-23T20:02:13.035101Z",
     "iopub.status.busy": "2022-04-23T20:02:13.0193Z",
     "iopub.status.idle": "2022-04-23T20:02:13.213481Z",
     "shell.execute_reply": "2022-04-23T20:02:13.214167Z",
     "shell.execute_reply.started": "2022-04-23T19:50:10.299341Z"
    },
    "papermill": {
     "duration": 0.255581,
     "end_time": "2022-04-23T20:02:13.214358",
     "exception": false,
     "start_time": "2022-04-23T20:02:12.958777",
     "status": "completed"
    },
    "tags": []
   },
   "outputs": [
    {
     "data": {
      "image/png": "[encoded data removed]",
      "text/plain": [
       "<Figure size 720x360 with 1 Axes>"
      ]
     },
     "metadata": {
      "needs_background": "light"
     },
     "output_type": "display_data"
    }
   ],
   "source": [
    "# ploting cars origin dist.\n",
    "plt.figure(figsize=(10,5))\n",
    "ax = sns.countplot(x = 'origin', data = mpg_df)\n",
    "ax.bar_label(ax.containers[0], label_type='edge')\n",
    "plt.title(\"origin distribution\", fontsize = 20)\n",
    "plt.xlabel(\"origin\", fontsize = 15)\n",
    "plt.ylabel(\"car count\", fontsize = 15)\n",
    "plt.show()"
   ]
  },
  {
   "cell_type": "markdown",
   "id": "2c8c835f",
   "metadata": {
    "papermill": {
     "duration": 0.05134,
     "end_time": "2022-04-23T20:02:13.318179",
     "exception": false,
     "start_time": "2022-04-23T20:02:13.266839",
     "status": "completed"
    },
    "tags": []
   },
   "source": [
    "- We can see that `USA` alne produces more than 64% of the total cars in our dataset.\n",
    "\n",
    "Let's explore its relations between other columns."
   ]
  },
  {
   "cell_type": "code",
   "execution_count": 22,
   "id": "f3dd4270",
   "metadata": {
    "execution": {
     "iopub.execute_input": "2022-04-23T20:02:13.424831Z",
     "iopub.status.busy": "2022-04-23T20:02:13.424178Z",
     "iopub.status.idle": "2022-04-23T20:02:13.660094Z",
     "shell.execute_reply": "2022-04-23T20:02:13.660976Z",
     "shell.execute_reply.started": "2022-04-23T19:58:29.923489Z"
    },
    "papermill": {
     "duration": 0.291438,
     "end_time": "2022-04-23T20:02:13.661282",
     "exception": false,
     "start_time": "2022-04-23T20:02:13.369844",
     "status": "completed"
    },
    "tags": []
   },
   "outputs": [
    {
     "data": {
      "image/png": "[encoded data removed]",
      "text/plain": [
       "<Figure size 720x360 with 1 Axes>"
      ]
     },
     "metadata": {
      "needs_background": "light"
     },
     "output_type": "display_data"
    }
   ],
   "source": [
    "# ploting origin anainst mpg\n",
    "plt.figure(figsize=(10,5))\n",
    "sns.pointplot(x = 'origin', y = 'mpg', data = mpg_df)\n",
    "plt.title(\"origin against mpg\", fontsize = 20)\n",
    "plt.xlabel(\"origin\", fontsize = 15)\n",
    "plt.ylabel(\"mpg\", fontsize = 15)\n",
    "plt.show()"
   ]
  },
  {
   "cell_type": "markdown",
   "id": "530c5688",
   "metadata": {
    "papermill": {
     "duration": 0.051642,
     "end_time": "2022-04-23T20:02:13.770495",
     "exception": false,
     "start_time": "2022-04-23T20:02:13.718853",
     "status": "completed"
    },
    "tags": []
   },
   "source": [
    "- Althogh `USA` has the biggest count of our dataset, it produces cars we relatively very low `mpg` compared to `Asia` and `Europe`\n",
    "- `Asia` is the leading contry in producing cars with high `mpg` with a mean close to 30."
   ]
  },
  {
   "cell_type": "markdown",
   "id": "e258c2b0",
   "metadata": {
    "papermill": {
     "duration": 0.05305,
     "end_time": "2022-04-23T20:02:14.266663",
     "exception": false,
     "start_time": "2022-04-23T20:02:14.213613",
     "status": "completed"
    },
    "tags": []
   },
   "source": [
    "- As expected, `USA` has the highest engine `horsepower`. This implies the previously observed conclusion that `hoursepower` and `mpg` has a negative correlation."
   ]
  },
  {
   "cell_type": "code",
   "execution_count": 24,
   "id": "1df8c269",
   "metadata": {
    "execution": {
     "iopub.execute_input": "2022-04-23T20:02:14.381955Z",
     "iopub.status.busy": "2022-04-23T20:02:14.381293Z",
     "iopub.status.idle": "2022-04-23T20:02:14.726137Z",
     "shell.execute_reply": "2022-04-23T20:02:14.72666Z",
     "shell.execute_reply.started": "2022-04-23T19:54:09.999435Z"
    },
    "papermill": {
     "duration": 0.406863,
     "end_time": "2022-04-23T20:02:14.726836",
     "exception": false,
     "start_time": "2022-04-23T20:02:14.319973",
     "status": "completed"
    },
    "tags": []
   },
   "outputs": [
    {
     "data": {
      "image/png": "[encoded data removed]",
      "text/plain": [
       "<Figure size 720x360 with 1 Axes>"
      ]
     },
     "metadata": {
      "needs_background": "light"
     },
     "output_type": "display_data"
    }
   ],
   "source": [
    "# display model year against mpg with respect to origin\n",
    "plt.figure(figsize=(10,5))\n",
    "sns.pointplot(x = 'model year', y = 'mpg', hue = 'origin', data = mpg_df, ci = None);\n",
    "plt.title(\"model year against mpg with respect to origin\", fontsize = 20)\n",
    "plt.xlabel(\"model year\", fontsize = 15)\n",
    "plt.ylabel(\"mpg\", fontsize = 15)\n",
    "plt.show()"
   ]
  },
  {
   "cell_type": "markdown",
   "id": "91338722",
   "metadata": {
    "papermill": {
     "duration": 0.05495,
     "end_time": "2022-04-23T20:02:14.837877",
     "exception": false,
     "start_time": "2022-04-23T20:02:14.782927",
     "status": "completed"
    },
    "tags": []
   },
   "source": [
    "- This chart also implies the positive correlation between `model year` and `mpg`, and shows that `Asia` has been leading country in this industry, followed by `Europe` and `USA` comes in the last place."
   ]
  },
  {
   "cell_type": "markdown",
   "id": "55ffba76",
   "metadata": {
    "papermill": {
     "duration": 0.055104,
     "end_time": "2022-04-23T20:02:14.948269",
     "exception": false,
     "start_time": "2022-04-23T20:02:14.893165",
     "status": "completed"
    },
    "tags": []
   },
   "source": [
    "___\n",
    "Let's now explore how `weight` has been affecting our car specs over the years."
   ]
  },
  {
   "cell_type": "code",
   "execution_count": 25,
   "id": "d276e831",
   "metadata": {
    "execution": {
     "iopub.execute_input": "2022-04-23T20:02:15.065042Z",
     "iopub.status.busy": "2022-04-23T20:02:15.064336Z",
     "iopub.status.idle": "2022-04-23T20:02:15.305945Z",
     "shell.execute_reply": "2022-04-23T20:02:15.306467Z",
     "shell.execute_reply.started": "2022-04-23T19:56:00.201238Z"
    },
    "papermill": {
     "duration": 0.302596,
     "end_time": "2022-04-23T20:02:15.306662",
     "exception": false,
     "start_time": "2022-04-23T20:02:15.004066",
     "status": "completed"
    },
    "tags": []
   },
   "outputs": [
    {
     "data": {
      "image/png": "[encoded data removed]",
      "text/plain": [
       "<Figure size 720x360 with 1 Axes>"
      ]
     },
     "metadata": {
      "needs_background": "light"
     },
     "output_type": "display_data"
    }
   ],
   "source": [
    "# plot a dist. of car weight\n",
    "plt.figure(figsize=(10,5))\n",
    "sns.histplot(x = 'weight', data = mpg_df, color = '#4287f5')\n",
    "plt.title(\"car weight distribution\", fontsize = 20)\n",
    "plt.xlabel(\"car weight\", fontsize = 15)\n",
    "plt.ylabel(\"car count\", fontsize = 15)\n",
    "plt.show()"
   ]
  },
  {
   "cell_type": "markdown",
   "id": "9bb3b827",
   "metadata": {
    "papermill": {
     "duration": 0.0551,
     "end_time": "2022-04-23T20:02:15.417521",
     "exception": false,
     "start_time": "2022-04-23T20:02:15.362421",
     "status": "completed"
    },
    "tags": []
   },
   "source": [
    "- car `weight` varies from 1500 to 5000, with the majority of cars at 2000."
   ]
  },
  {
   "cell_type": "code",
   "execution_count": 26,
   "id": "acb55ea1",
   "metadata": {
    "execution": {
     "iopub.execute_input": "2022-04-23T20:02:15.570149Z",
     "iopub.status.busy": "2022-04-23T20:02:15.539135Z",
     "iopub.status.idle": "2022-04-23T20:02:15.757329Z",
     "shell.execute_reply": "2022-04-23T20:02:15.756739Z",
     "shell.execute_reply.started": "2022-04-23T19:59:17.259878Z"
    },
    "papermill": {
     "duration": 0.282269,
     "end_time": "2022-04-23T20:02:15.757488",
     "exception": false,
     "start_time": "2022-04-23T20:02:15.475219",
     "status": "completed"
    },
    "tags": []
   },
   "outputs": [
    {
     "data": {
      "image/png": "[encoded data removed]",
      "text/plain": [
       "<Figure size 720x360 with 1 Axes>"
      ]
     },
     "metadata": {
      "needs_background": "light"
     },
     "output_type": "display_data"
    }
   ],
   "source": [
    "# plotting weight against model year\n",
    "plt.figure(figsize=(10,5))\n",
    "ax = sns.barplot(x = 'model year', y = 'weight', data = mpg_df,\n",
    "                 color = '#4287f5', ci = None)\n",
    "plt.title(\"weight against model year\", fontsize = 20)\n",
    "plt.xlabel(\"model year\", fontsize = 15)\n",
    "plt.ylabel(\"car weight\", fontsize = 15)\n",
    "plt.show()"
   ]
  },
  {
   "cell_type": "markdown",
   "id": "38377635",
   "metadata": {
    "papermill": {
     "duration": 0.057673,
     "end_time": "2022-04-23T20:02:15.872428",
     "exception": false,
     "start_time": "2022-04-23T20:02:15.814755",
     "status": "completed"
    },
    "tags": []
   },
   "source": [
    "- Car `weight` has been decreasing over the years. "
   ]
  },
  {
   "cell_type": "markdown",
   "id": "f17b357f",
   "metadata": {
    "papermill": {
     "duration": 0.057684,
     "end_time": "2022-04-23T20:02:16.302947",
     "exception": false,
     "start_time": "2022-04-23T20:02:16.245263",
     "status": "completed"
    },
    "tags": []
   },
   "source": [
    "- `mpg` inceases as `weight` decreses over time, that indecates a stron correlation between them."
   ]
  },
  {
   "cell_type": "code",
   "execution_count": 28,
   "id": "51a28c9c",
   "metadata": {
    "execution": {
     "iopub.execute_input": "2022-04-23T20:02:16.432528Z",
     "iopub.status.busy": "2022-04-23T20:02:16.43116Z",
     "iopub.status.idle": "2022-04-23T20:02:16.689083Z",
     "shell.execute_reply": "2022-04-23T20:02:16.689966Z",
     "shell.execute_reply.started": "2022-04-23T19:57:18.628353Z"
    },
    "papermill": {
     "duration": 0.328996,
     "end_time": "2022-04-23T20:02:16.690271",
     "exception": false,
     "start_time": "2022-04-23T20:02:16.361275",
     "status": "completed"
    },
    "tags": []
   },
   "outputs": [
    {
     "data": {
      "image/png": "[encoded data removed]",
      "text/plain": [
       "<Figure size 720x360 with 1 Axes>"
      ]
     },
     "metadata": {
      "needs_background": "light"
     },
     "output_type": "display_data"
    }
   ],
   "source": [
    "# plotting weight against origin\n",
    "plt.figure(figsize=(10,5))\n",
    "sns.barplot(x = 'origin', y = 'weight', data = mpg_df)\n",
    "plt.title(\"weight against origin\", fontsize = 20)\n",
    "plt.xlabel(\"origin\", fontsize = 15)\n",
    "plt.ylabel(\"car weight\", fontsize = 15)\n",
    "plt.show()"
   ]
  },
  {
   "cell_type": "markdown",
   "id": "ef8a2794",
   "metadata": {
    "papermill": {
     "duration": 0.059847,
     "end_time": "2022-04-23T20:02:16.814282",
     "exception": false,
     "start_time": "2022-04-23T20:02:16.754435",
     "status": "completed"
    },
    "tags": []
   },
   "source": [
    "- As expected, `USA` gets the highest possible `weight` values, that explains alot about its low `mpg` and high `horsepower`.\n",
    "- `Asia` produces the lightest cars campared to `USA` and `Europe`, this also explains itss high `mpg` and low `horsepower`."
   ]
  },
  {
   "cell_type": "markdown",
   "id": "f4418d8d",
   "metadata": {
    "papermill": {
     "duration": 0.06037,
     "end_time": "2022-04-23T20:02:17.429955",
     "exception": false,
     "start_time": "2022-04-23T20:02:17.369585",
     "status": "completed"
    },
    "tags": []
   },
   "source": [
    "- Wa can spot a negative correlation between `acceleration` and `horepower`, this means that it has a positive one with `mpg`.\n",
    "___"
   ]
  },
  {
   "cell_type": "markdown",
   "id": "b8af2f76",
   "metadata": {
    "papermill": {
     "duration": 0.060856,
     "end_time": "2022-04-23T20:02:17.551899",
     "exception": false,
     "start_time": "2022-04-23T20:02:17.491043",
     "status": "completed"
    },
    "tags": []
   },
   "source": [
    "## Conclusion\n",
    "In this section, we'd add the conclusions we draw from the previous visualisations.\n",
    "- As years pass after `1973`, there has been a noticable increase in `mpg`.\n",
    "- As `cylinders` in the engine increases above 4, `MPG` decreases and engine `horsepower` increases. That indicates negative correlation between `mpg` and `horsepower`.\n",
    "- `mpg` increases as `weight` decreses over time, that also indecates a stron correlation between them.\n",
    "- Althogh `USA` has the biggest count of produced cars, its cars has relatively very low `mpg`, thus the highest possible `weight` compared to `Asia` and `Europe`\n",
    "- `Asia` is the leading contry in producing cars with high `mpg` with a mean close to 30, and it produces the lightest cars\n",
    "- Wa can spot a negative correlation between `acceleration` and `horepower`, this means that it has a positive one with `mpg`."
   ]
  }
 ],
 "metadata": {
  "kernelspec": {
   "display_name": "Python 3",
   "language": "python",
   "name": "python3"
  },
  "language_info": {
   "codemirror_mode": {
    "name": "ipython",
    "version": 3
   },
   "file_extension": ".py",
   "mimetype": "text/x-python",
   "name": "python",
   "nbconvert_exporter": "python",
   "pygments_lexer": "ipython3",
   "version": "3.12.8"
  },
  "papermill": {
   "default_parameters": {},
   "duration": 22.455003,
   "end_time": "2022-04-23T20:02:18.323538",
   "environment_variables": {},
   "exception": null,
   "input_path": "__notebook__.ipynb",
   "output_path": "__notebook__.ipynb",
   "parameters": {},
   "start_time": "2022-04-23T20:01:55.868535",
   "version": "2.3.3"
  }
 },
 "nbformat": 4,
 "nbformat_minor": 5
}
